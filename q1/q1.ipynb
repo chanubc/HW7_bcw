{
 "cells": [
  {
   "cell_type": "code",
   "execution_count": 4,
   "metadata": {},
   "outputs": [
    {
     "name": "stdout",
     "output_type": "stream",
     "text": [
      "Eigenvalues:  [-0.37228132  5.37228132]\n",
      "Eigenvectors: [[-0.82456484 -0.41597356]\n",
      " [ 0.56576746 -0.90937671]]\n",
      "Determinant:  -2\n",
      "Cross product: [-3  6 -3]\n",
      "Solution: \n",
      " [-1. -4.  3.]\n"
     ]
    }
   ],
   "source": [
    "#q1\n",
    "import numpy as np\n",
    "\n",
    "def main():\n",
    "    arr = np.arange(1,5).reshape(2,2)\n",
    "    \n",
    "    eigenvalues, eigenvectors = np.linalg.eig(arr)\n",
    "    determinant = np.linalg.det(arr)\n",
    "    determinant = format(determinant,\".0f\")\n",
    "\n",
    "    print(\"Eigenvalues: \", eigenvalues)\n",
    "    # print(\"Eigenvectors:\", eigenvectors[:,0], eigenvectors[:,1])\n",
    "    print(\"Eigenvectors:\", eigenvectors)\n",
    "    print(\"Determinant: \", determinant)\n",
    "\n",
    "    vec1 = np.array([1,2,3])\n",
    "    vec2 = np.array([4,5,6])\n",
    "    print(\"Cross product:\", np.cross(vec1, vec2))\n",
    "    \n",
    "    a1 = np.array([[1,2,-2],[2,1,-5],[1,-4,1]])\n",
    "    a2 = np.array([-15,-21,18])\n",
    "    \n",
    "    print(\"Solution: \\n\", np.linalg.solve(a1,a2))\n",
    "\n",
    "if __name__ == \"__main__\":\n",
    "    main()"
   ]
  }
 ],
 "metadata": {
  "kernelspec": {
   "display_name": "Python 3 (ipykernel)",
   "language": "python",
   "name": "python3"
  },
  "language_info": {
   "codemirror_mode": {
    "name": "ipython",
    "version": 3
   },
   "file_extension": ".py",
   "mimetype": "text/x-python",
   "name": "python",
   "nbconvert_exporter": "python",
   "pygments_lexer": "ipython3",
   "version": "3.9.13"
  }
 },
 "nbformat": 4,
 "nbformat_minor": 2
}
