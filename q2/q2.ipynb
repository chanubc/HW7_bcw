{
 "cells": [
  {
   "cell_type": "code",
   "execution_count": 13,
   "metadata": {},
   "outputs": [
    {
     "name": "stdout",
     "output_type": "stream",
     "text": [
      "doc 1 = 0.58\n",
      "doc 2 = 0.87\n",
      "doc 3 = 0.67\n"
     ]
    }
   ],
   "source": [
    "#Q2\n",
    "import numpy as np\n",
    "\n",
    "def main():\n",
    "    docs = np.array([[1,1,0,1,0,1],[1,1,1,0,1,0],[1,1,0,1,0,0]])\n",
    "    query = np.array([1,1,0,0,1,0])\n",
    "\n",
    "    # doc 벡터 크기 계산\n",
    "    docs_norm = np.linalg.norm(docs, axis=1)\n",
    "    # query 벡터 크기 계산\n",
    "    query_norm = np.linalg.norm(query)\n",
    "    # 내적 계산\n",
    "    inner_product = np.dot(docs, query)\n",
    "    # 코사인 유사도 계산\n",
    "    cos_sim = inner_product / (docs_norm * query_norm)\n",
    "\n",
    "    for i in range(len(cos_sim)):\n",
    "        print(\"doc\",i+1,\"=\", format(cos_sim[i],\".2f\"))\n",
    "\n",
    "\n",
    "if __name__ == \"__main__\":\n",
    "    main()"
   ]
  }
 ],
 "metadata": {
  "kernelspec": {
   "display_name": "Python 3 (ipykernel)",
   "language": "python",
   "name": "python3"
  },
  "language_info": {
   "codemirror_mode": {
    "name": "ipython",
    "version": 3
   },
   "file_extension": ".py",
   "mimetype": "text/x-python",
   "name": "python",
   "nbconvert_exporter": "python",
   "pygments_lexer": "ipython3",
   "version": "3.9.13"
  }
 },
 "nbformat": 4,
 "nbformat_minor": 2
}
