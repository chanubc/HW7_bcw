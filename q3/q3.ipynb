{
 "cells": [
  {
   "cell_type": "code",
   "execution_count": 11,
   "metadata": {},
   "outputs": [
    {
     "name": "stdout",
     "output_type": "stream",
     "text": [
      "        unit price  number  total price\n",
      "store2         280     120        33600\n",
      "store3         900      30        27000\n"
     ]
    }
   ],
   "source": [
    "#q3\n",
    "import numpy as np\n",
    "import pandas as pd\n",
    "\n",
    "def main():\n",
    "    # 데이터 프레임 만들기\n",
    "    arr = np.array([[1000,25],[280,120],[900,30]])\n",
    "    df = pd.DataFrame(arr,index=['store1','store2','store3'],columns=['unit price','number'])\n",
    "    # 연산\n",
    "    df['total price'] = df['unit price'] * df['number']\n",
    "    # 정렬\n",
    "    df = df.sort_values(by='total price',ascending=False)\n",
    "    # 비싼거 2개만 출력\n",
    "    print(df.head(2))\n",
    "\n",
    "\n",
    "if __name__ == '__main__':\n",
    "    main()"
   ]
  }
 ],
 "metadata": {
  "kernelspec": {
   "display_name": "opensw",
   "language": "python",
   "name": "python3"
  },
  "language_info": {
   "codemirror_mode": {
    "name": "ipython",
    "version": 3
   },
   "file_extension": ".py",
   "mimetype": "text/x-python",
   "name": "python",
   "nbconvert_exporter": "python",
   "pygments_lexer": "ipython3",
   "version": "3.9.13"
  },
  "orig_nbformat": 4
 },
 "nbformat": 4,
 "nbformat_minor": 2
}
